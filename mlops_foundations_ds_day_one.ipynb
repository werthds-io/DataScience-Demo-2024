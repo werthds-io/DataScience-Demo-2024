{
  "nbformat": 4,
  "nbformat_minor": 0,
  "metadata": {
    "colab": {
      "provenance": [],
      "authorship_tag": "ABX9TyNAK2FhlXFvjylP5NJa0qmh",
      "include_colab_link": true
    },
    "kernelspec": {
      "name": "python3",
      "display_name": "Python 3"
    },
    "language_info": {
      "name": "python"
    }
  },
  "cells": [
    {
      "cell_type": "markdown",
      "metadata": {
        "id": "view-in-github",
        "colab_type": "text"
      },
      "source": [
        "<a href=\"https://colab.research.google.com/github/werthds-io/DataScience-Demo-2024/blob/main/mlops_foundations_ds_day_one.ipynb\" target=\"_parent\"><img src=\"https://colab.research.google.com/assets/colab-badge.svg\" alt=\"Open In Colab\"/></a>"
      ]
    },
    {
      "cell_type": "markdown",
      "source": [
        "## Data Science Structure\n",
        "1. Ingest some data\n",
        "1. Exploratory Data Analysis (EDA)\n",
        "1. Modeling (learning about data, prediction)\n",
        "1. Conclusion (strong recomendation and data to support it)"
      ],
      "metadata": {
        "id": "PtNX12pvj40b"
      }
    },
    {
      "cell_type": "code",
      "execution_count": null,
      "metadata": {
        "id": "JCFO8IYbjzrt"
      },
      "outputs": [],
      "source": []
    },
    {
      "cell_type": "markdown",
      "source": [
        "## Ingest"
      ],
      "metadata": {
        "id": "ijzvfRWUm3ky"
      }
    },
    {
      "cell_type": "code",
      "source": [],
      "metadata": {
        "id": "Wx36Gvzjm5Yq"
      },
      "execution_count": null,
      "outputs": []
    },
    {
      "cell_type": "markdown",
      "source": [
        "## EDA (Exploratory Data Analysis)"
      ],
      "metadata": {
        "id": "rtcAFC_inC3u"
      }
    },
    {
      "cell_type": "markdown",
      "source": [
        "## Modeling"
      ],
      "metadata": {
        "id": "Yiaejexcm7fE"
      }
    },
    {
      "cell_type": "code",
      "source": [],
      "metadata": {
        "id": "Gm-CLDgqm9MQ"
      },
      "execution_count": null,
      "outputs": []
    },
    {
      "cell_type": "markdown",
      "source": [
        "## Conclusion"
      ],
      "metadata": {
        "id": "5-lI8kASm9rK"
      }
    },
    {
      "cell_type": "code",
      "source": [],
      "metadata": {
        "id": "ORM6foFAnAxf"
      },
      "execution_count": null,
      "outputs": []
    }
  ]
}